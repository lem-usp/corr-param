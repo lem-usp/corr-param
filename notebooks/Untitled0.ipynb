{
 "metadata": {
  "name": ""
 },
 "nbformat": 3,
 "nbformat_minor": 0,
 "worksheets": [
  {
   "cells": [
    {
     "cell_type": "code",
     "collapsed": false,
     "input": [
      "import randomCorr as rc\n",
      "\n",
      "m1 = np.loadtxt(open(\"../matrices/3-molossidae.csv\",\"rb\"),delimiter=\",\")\n",
      "m2 = np.loadtxt(open(\"../matrices/t3.csv\",\"rb\"),delimiter=\",\")\n",
      "\n",
      "ms =[m1,np.identity(35)]\n",
      "\n",
      "bp = []\n",
      "\n",
      "for i in xrange(2):\n",
      "    b_n = rc.triang_decomp(ms[i])\n",
      "    p_n = rc.calc_params(b_n)\n",
      "    bp.append((b_n, p_n))"
     ],
     "language": "python",
     "metadata": {},
     "outputs": [
      {
       "output_type": "stream",
       "stream": "stderr",
       "text": [
        "/home/walrus/corr-param/randomCorr.py:85: RuntimeWarning: invalid value encountered in arccos\n",
        "  p[i, j] = np.arccos(b[i, j]/np.exp(np.sum(np.log(np.sin(p[i, 0:j])))))\n"
       ]
      }
     ],
     "prompt_number": 2
    },
    {
     "cell_type": "code",
     "collapsed": false,
     "input": [
      "pcolor(ms[1])"
     ],
     "language": "python",
     "metadata": {},
     "outputs": [
      {
       "metadata": {},
       "output_type": "pyout",
       "prompt_number": 7,
       "text": [
        "<matplotlib.collections.PolyCollection at 0x3e14410>"
       ]
      },
      {
       "metadata": {},
       "output_type": "display_data",
       "png": "[encoded data removed]",
       "text": [
        "<matplotlib.figure.Figure at 0x3bdfb50>"
       ]
      }
     ],
     "prompt_number": 7
    },
    {
     "cell_type": "code",
     "collapsed": false,
     "input": [
      "def rand_ortho_matrix(eigen_values):\n",
      "    size = len(eigen_values)\n",
      "    A = np.mat(np.random.random((size,size)))\n",
      "    Q, R = np.linalg.qr(A)\n",
      "    \n",
      "    return Q * np.diag(eigen_values) * Q.T\n"
     ],
     "language": "python",
     "metadata": {},
     "outputs": [],
     "prompt_number": 18
    },
    {
     "cell_type": "code",
     "collapsed": false,
     "input": [
      "eig.dec = eigvals(m1)\n",
      "rm1 = rand_ortho_matrix(eig.dec)\n",
      "pcolor(array(rm1))\n"
     ],
     "language": "python",
     "metadata": {},
     "outputs": [
      {
       "metadata": {},
       "output_type": "pyout",
       "prompt_number": 86,
       "text": [
        "<matplotlib.collections.PolyCollection at 0x15b05bd0>"
       ]
      },
      {
       "metadata": {},
       "output_type": "display_data",
       "png": "[encoded data removed]",
       "text": [
        "<matplotlib.figure.Figure at 0x14dee050>"
       ]
      }
     ],
     "prompt_number": 86
    },
    {
     "cell_type": "code",
     "collapsed": false,
     "input": [
      "pcolor(m1)"
     ],
     "language": "python",
     "metadata": {},
     "outputs": [
      {
       "metadata": {},
       "output_type": "pyout",
       "prompt_number": 87,
       "text": [
        "<matplotlib.collections.PolyCollection at 0x15f7aa50>"
       ]
      },
      {
       "metadata": {},
       "output_type": "display_data",
       "png": "[encoded data removed]",
       "text": [
        "<matplotlib.figure.Figure at 0x1383c750>"
       ]
      }
     ],
     "prompt_number": 87
    },
    {
     "cell_type": "code",
     "collapsed": false,
     "input": [
      "import randomCorr as rc\n",
      "\n",
      "pm1 = rc.calc_params(m1)\n",
      "pm1[:,0] += np.random.rand(35)/100000\n",
      "print pm1.shape\n",
      "\n",
      "t1 = rc.triang_from_params(pm1)\n",
      "pcolor(t1.dot(t1.T))\n",
      "eigvals(t1.dot(t1.T))"
     ],
     "language": "python",
     "metadata": {},
     "outputs": [
      {
       "output_type": "stream",
       "stream": "stdout",
       "text": [
        "(35, 35)\n"
       ]
      },
      {
       "metadata": {},
       "output_type": "pyout",
       "prompt_number": 120,
       "text": [
        "array([  1.49477733e+01 +0.00000000e+00j,\n",
        "         4.23396619e+00 +0.00000000e+00j,\n",
        "         2.73066873e+00 +0.00000000e+00j,\n",
        "         2.31745613e+00 +0.00000000e+00j,\n",
        "         1.92197764e+00 +0.00000000e+00j,\n",
        "         1.51663949e+00 +0.00000000e+00j,\n",
        "         1.26649276e+00 +0.00000000e+00j,\n",
        "         1.03715706e+00 +0.00000000e+00j,\n",
        "         7.77529265e-01 +0.00000000e+00j,\n",
        "         7.21862401e-01 +0.00000000e+00j,\n",
        "         6.54169855e-01 +0.00000000e+00j,\n",
        "         6.03711429e-01 +0.00000000e+00j,\n",
        "         4.99083747e-01 +0.00000000e+00j,\n",
        "         4.15756519e-01 +0.00000000e+00j,\n",
        "         3.79385119e-01 +0.00000000e+00j,\n",
        "         2.61496824e-01 +0.00000000e+00j,\n",
        "         1.97836315e-01 +0.00000000e+00j,\n",
        "         1.78661875e-01 +0.00000000e+00j,\n",
        "         1.28318590e-01 +0.00000000e+00j,\n",
        "         1.06357211e-01 +0.00000000e+00j,\n",
        "         4.86829236e-02 +0.00000000e+00j,\n",
        "         3.55362673e-02 +0.00000000e+00j,\n",
        "         1.90027677e-02 +0.00000000e+00j,\n",
        "         4.77620956e-04 +0.00000000e+00j,\n",
        "         3.04813207e-16 +4.60214609e-17j,\n",
        "         3.04813207e-16 -4.60214609e-17j,\n",
        "        -2.25120951e-16 +0.00000000e+00j,\n",
        "        -1.67620037e-16 +0.00000000e+00j,\n",
        "        -5.45810311e-17 +1.31915283e-16j,\n",
        "        -5.45810311e-17 -1.31915283e-16j,\n",
        "         3.33872719e-17 +1.49901782e-16j,\n",
        "         3.33872719e-17 -1.49901782e-16j,\n",
        "         1.12740841e-16 +0.00000000e+00j,\n",
        "         1.22303763e-17 +5.68228039e-17j,   1.22303763e-17 -5.68228039e-17j])"
       ]
      },
      {
       "metadata": {},
       "output_type": "display_data",
       "png": "[encoded data removed]",
       "text": [
        "<matplotlib.figure.Figure at 0x17f2f990>"
       ]
      }
     ],
     "prompt_number": 120
    },
    {
     "cell_type": "code",
     "collapsed": false,
     "input": [
      "plot(i)"
     ],
     "language": "python",
     "metadata": {},
     "outputs": [
      {
       "metadata": {},
       "output_type": "pyout",
       "prompt_number": 118,
       "text": [
        "[<matplotlib.lines.Line2D at 0x1822cb10>]"
       ]
      },
      {
       "metadata": {},
       "output_type": "display_data",
       "png": "[encoded data removed]",
       "text": [
        "<matplotlib.figure.Figure at 0x168f8c90>"
       ]
      }
     ],
     "prompt_number": 118
    },
    {
     "cell_type": "code",
     "collapsed": false,
     "input": [
      "def calc_corr_path(ms, bp, i0, j, s=100, pcs=[0]):\n",
      "    m0 = ms[i0]\n",
      "    corrs = []\n",
      "\n",
      "    iso = np.ones(m0.shape[0])/np.sqrt(m0.shape[0])\n",
      "    diff = (bp[j][1] - bp[i0][1])/100\n",
      "    p = bp[i0][1]\n",
      "\n",
      "    for i in xrange(100):\n",
      "        p += diff\n",
      "        new_b = rc.triang_from_params(p)\n",
      "        m0 = np.dot(new_b, new_b.T)\n",
      "        corrs.append(matrix_correlation(ms[i0], m0))\n",
      "\n",
      "    return corrs\n"
     ],
     "language": "python",
     "metadata": {},
     "outputs": [],
     "prompt_number": 159
    },
    {
     "cell_type": "code",
     "collapsed": false,
     "input": [
      "c = calc_corr_path(ms, bp, 0, 1)"
     ],
     "language": "python",
     "metadata": {},
     "outputs": [],
     "prompt_number": 160
    },
    {
     "cell_type": "code",
     "collapsed": false,
     "input": [
      "matrix_correlation(ms[0], ms[])"
     ],
     "language": "python",
     "metadata": {},
     "outputs": [
      {
       "metadata": {},
       "output_type": "pyout",
       "prompt_number": 164,
       "text": [
        "nan"
       ]
      }
     ],
     "prompt_number": 164
    },
    {
     "cell_type": "code",
     "collapsed": false,
     "input": [
      "scatter(r,f, c=range(0,100))"
     ],
     "language": "python",
     "metadata": {},
     "outputs": [
      {
       "metadata": {},
       "output_type": "pyout",
       "prompt_number": 44,
       "text": [
        "<matplotlib.collections.PathCollection at 0x4cfd8d0>"
       ]
      },
      {
       "metadata": {},
       "output_type": "display_data",
       "png": "[encoded data removed]",
       "text": [
        "<matplotlib.figure.Figure at 0x4804150>"
       ]
      }
     ],
     "prompt_number": 44
    },
    {
     "cell_type": "code",
     "collapsed": false,
     "input": [
      "import numpy as np\n"
     ],
     "language": "python",
     "metadata": {},
     "outputs": [],
     "prompt_number": 21
    },
    {
     "cell_type": "code",
     "collapsed": false,
     "input": [
      "m1s =np.ones(35*35).reshape((35,35))"
     ],
     "language": "python",
     "metadata": {},
     "outputs": [],
     "prompt_number": 22
    },
    {
     "cell_type": "code",
     "collapsed": false,
     "input": [
      "eig(m1s)[0]"
     ],
     "language": "python",
     "metadata": {},
     "outputs": [
      {
       "metadata": {},
       "output_type": "pyout",
       "prompt_number": 25,
       "text": [
        "array([  3.50000000e+001,   3.25638225e-016,  -5.24103718e-030,\n",
        "        -2.81552301e-046,  -2.10311404e-061,  -3.45446742e-077,\n",
        "        -2.12897992e-108,   6.71839762e-093,  -7.03133221e-125,\n",
        "        -3.49609722e-156,  -1.51955176e-140,   1.29381588e-171,\n",
        "        -8.20985713e-188,   0.00000000e+000,   5.65745410e-204,\n",
        "        -6.03513310e-236,   1.93831270e-267,   2.96961236e-252,\n",
        "         0.00000000e+000,   1.11402876e-299,   1.32612593e-315,\n",
        "         0.00000000e+000,   0.00000000e+000,  -0.00000000e+000,\n",
        "         0.00000000e+000,   0.00000000e+000,   0.00000000e+000,\n",
        "        -0.00000000e+000,   0.00000000e+000,   0.00000000e+000,\n",
        "         0.00000000e+000,  -0.00000000e+000,   0.00000000e+000,\n",
        "        -0.00000000e+000,   0.00000000e+000])"
       ]
      }
     ],
     "prompt_number": 25
    },
    {
     "cell_type": "code",
     "collapsed": false,
     "input": [
      "eig(np.identity(35))"
     ],
     "language": "python",
     "metadata": {},
     "outputs": [
      {
       "metadata": {},
       "output_type": "pyout",
       "prompt_number": 27,
       "text": [
        "(array([ 1.,  1.,  1.,  1.,  1.,  1.,  1.,  1.,  1.,  1.,  1.,  1.,  1.,\n",
        "        1.,  1.,  1.,  1.,  1.,  1.,  1.,  1.,  1.,  1.,  1.,  1.,  1.,\n",
        "        1.,  1.,  1.,  1.,  1.,  1.,  1.,  1.,  1.]),\n",
        " array([[ 1.,  0.,  0., ...,  0.,  0.,  0.],\n",
        "       [ 0.,  1.,  0., ...,  0.,  0.,  0.],\n",
        "       [ 0.,  0.,  1., ...,  0.,  0.,  0.],\n",
        "       ..., \n",
        "       [ 0.,  0.,  0., ...,  1.,  0.,  0.],\n",
        "       [ 0.,  0.,  0., ...,  0.,  1.,  0.],\n",
        "       [ 0.,  0.,  0., ...,  0.,  0.,  1.]]))"
       ]
      }
     ],
     "prompt_number": 27
    },
    {
     "cell_type": "code",
     "collapsed": false,
     "input": [
      "m1.shape"
     ],
     "language": "python",
     "metadata": {},
     "outputs": [
      {
       "metadata": {},
       "output_type": "pyout",
       "prompt_number": 29,
       "text": [
        "(35, 35)"
       ]
      }
     ],
     "prompt_number": 29
    },
    {
     "cell_type": "code",
     "collapsed": false,
     "input": [
      "plot(eigvals(m1))"
     ],
     "language": "python",
     "metadata": {},
     "outputs": [
      {
       "metadata": {},
       "output_type": "pyout",
       "prompt_number": 19,
       "text": [
        "[<matplotlib.lines.Line2D at 0x6438090>]"
       ]
      },
      {
       "metadata": {},
       "output_type": "display_data",
       "png": "[encoded data removed]",
       "text": [
        "<matplotlib.figure.Figure at 0x60dbdd0>"
       ]
      }
     ],
     "prompt_number": 19
    },
    {
     "cell_type": "code",
     "collapsed": false,
     "input": [
      "nt = 35\n",
      "\n",
      "import numpy as np\n",
      "h = np.array(np.zeros(nt*1000)).reshape((1000,nt))\n",
      "for i in xrange(1000):\n",
      "    c = rc.rand_corr(nt, 10**-3)\n",
      "    h[i] = eigvals(c)"
     ],
     "language": "python",
     "metadata": {},
     "outputs": [],
     "prompt_number": 52
    },
    {
     "cell_type": "code",
     "collapsed": false,
     "input": [
      "hist(h[:,0])\n"
     ],
     "language": "python",
     "metadata": {},
     "outputs": [
      {
       "metadata": {},
       "output_type": "pyout",
       "prompt_number": 55,
       "text": [
        "0.2857142857142857"
       ]
      },
      {
       "metadata": {},
       "output_type": "display_data",
       "png": "[encoded data removed]",
       "text": [
        "<matplotlib.figure.Figure at 0x979fa50>"
       ]
      }
     ],
     "prompt_number": 55
    },
    {
     "cell_type": "code",
     "collapsed": false,
     "input": [
      "m1 = np.loadtxt(open(\"../matrices/2-peramelidae.csv\",\"rb\"),delimiter=\",\")\n",
      "eigvals(m1)[0]"
     ],
     "language": "python",
     "metadata": {},
     "outputs": [
      {
       "metadata": {},
       "output_type": "pyout",
       "prompt_number": 80,
       "text": [
        "23.551080813617588"
       ]
      }
     ],
     "prompt_number": 80
    },
    {
     "cell_type": "code",
     "collapsed": false,
     "input": [
      "bp = []\n",
      "\n",
      "b_n = rc.triang_decomp(m1)\n",
      "p_n = rc.calc_params(b_n)\n",
      "bp.append((b_n, p_n))"
     ],
     "language": "python",
     "metadata": {},
     "outputs": [],
     "prompt_number": 81
    },
    {
     "cell_type": "code",
     "collapsed": false,
     "input": [
      "bp[0][0][:,0]"
     ],
     "language": "python",
     "metadata": {},
     "outputs": [
      {
       "metadata": {},
       "output_type": "pyout",
       "prompt_number": 88,
       "text": [
        "array([ 1.        ,  0.79765436,  0.88131112,  0.7838502 ,  0.826473  ,\n",
        "        0.82225482,  0.80283123,  0.81791852,  0.84945366,  0.19379249,\n",
        "        0.51197682, -0.06224458,  0.66553795,  0.63882503,  0.75498744,\n",
        "        0.63313624,  0.73739032,  0.4461544 ,  0.64464572,  0.68723842,\n",
        "        0.63413843,  0.68496681,  0.77505759,  0.75918824,  0.72741789,\n",
        "        0.38923954,  0.54613514,  0.66516457,  0.69940453,  0.56747257,\n",
        "        0.68028343,  0.54666343,  0.66213504,  0.42052903,  0.25170927])"
       ]
      }
     ],
     "prompt_number": 88
    },
    {
     "cell_type": "code",
     "collapsed": false,
     "input": [
      "m2 = np.loadtxt(open(\"../matrices/1-gorilla.csv\",\"rb\"),delimiter=\",\")\n",
      "b_n = rc.triang_decomp(m2)\n",
      "p_n = rc.calc_params(b_n)\n",
      "bp.append((b_n, p_n))"
     ],
     "language": "python",
     "metadata": {},
     "outputs": [],
     "prompt_number": 91
    },
    {
     "cell_type": "code",
     "collapsed": false,
     "input": [
      "bp[1][0][:,0]"
     ],
     "language": "python",
     "metadata": {},
     "outputs": [
      {
       "metadata": {},
       "output_type": "pyout",
       "prompt_number": 92,
       "text": [
        "array([ 1.   ,  0.423,  0.582,  0.222,  0.22 ,  0.514, -0.113,  0.039,\n",
        "        0.248,  0.3  ,  0.241,  0.348,  0.401,  0.231,  0.192,  0.135,\n",
        "        0.198,  0.126,  0.213,  0.296,  0.286,  0.14 ,  0.273,  0.16 ,\n",
        "        0.147,  0.08 ,  0.377,  0.212,  0.268,  0.325,  0.193,  0.262,\n",
        "        0.296,  0.242,  0.096])"
       ]
      }
     ],
     "prompt_number": 92
    },
    {
     "cell_type": "code",
     "collapsed": false,
     "input": [
      "rm = rc.rand_corr(35, 10**-3)"
     ],
     "language": "python",
     "metadata": {},
     "outputs": [],
     "prompt_number": 93
    },
    {
     "cell_type": "code",
     "collapsed": false,
     "input": [
      "b_n = rc.triang_decomp(m2)\n",
      "p_n = rc.calc_params(b_n)\n",
      "bp.append((b_n, p_n))"
     ],
     "language": "python",
     "metadata": {},
     "outputs": [],
     "prompt_number": 94
    },
    {
     "cell_type": "code",
     "collapsed": false,
     "input": [
      "bp[-1][0][:,0]"
     ],
     "language": "python",
     "metadata": {},
     "outputs": [
      {
       "metadata": {},
       "output_type": "pyout",
       "prompt_number": 95,
       "text": [
        "array([ 1.   ,  0.423,  0.582,  0.222,  0.22 ,  0.514, -0.113,  0.039,\n",
        "        0.248,  0.3  ,  0.241,  0.348,  0.401,  0.231,  0.192,  0.135,\n",
        "        0.198,  0.126,  0.213,  0.296,  0.286,  0.14 ,  0.273,  0.16 ,\n",
        "        0.147,  0.08 ,  0.377,  0.212,  0.268,  0.325,  0.193,  0.262,\n",
        "        0.296,  0.242,  0.096])"
       ]
      }
     ],
     "prompt_number": 95
    },
    {
     "cell_type": "code",
     "collapsed": false,
     "input": [
      "import numpy as np"
     ],
     "language": "python",
     "metadata": {},
     "outputs": [],
     "prompt_number": 101
    },
    {
     "cell_type": "code",
     "collapsed": false,
     "input": [
      "x,y= np.invert(np.tri(10,10, dtype=bool)).nonzero()"
     ],
     "language": "python",
     "metadata": {},
     "outputs": [],
     "prompt_number": 113
    },
    {
     "cell_type": "code",
     "collapsed": false,
     "input": [
      "import randomCorr as rc\n",
      "mr = rc.rand_corr(10, 10**-3)"
     ],
     "language": "python",
     "metadata": {},
     "outputs": [],
     "prompt_number": 111
    },
    {
     "cell_type": "code",
     "collapsed": false,
     "input": [
      "np.corrcoef(mr[x,y], mr[x,y])[1,0]"
     ],
     "language": "python",
     "metadata": {},
     "outputs": [
      {
       "metadata": {},
       "output_type": "pyout",
       "prompt_number": 122,
       "text": [
        "1.0"
       ]
      }
     ],
     "prompt_number": 122
    },
    {
     "cell_type": "code",
     "collapsed": false,
     "input": [
      "t"
     ],
     "language": "python",
     "metadata": {},
     "outputs": [
      {
       "metadata": {},
       "output_type": "pyout",
       "prompt_number": 119,
       "text": [
        "array([[ 1.        ,  0.17970292, -0.4194317 ,  0.17496253, -0.53454226,\n",
        "         0.18423134,  0.37536349, -0.11811855,  0.32571932,  0.61749461],\n",
        "       [ 0.17970292,  1.        ,  0.1463778 , -0.27376399,  0.24128308,\n",
        "         0.45478407, -0.08121793, -0.10073335,  0.22026407, -0.11367471],\n",
        "       [-0.4194317 ,  0.1463778 ,  1.        ,  0.15236658,  0.9425087 ,\n",
        "         0.45936686,  0.03744778, -0.5718009 , -0.6936209 , -0.6772166 ],\n",
        "       [ 0.17496253, -0.27376399,  0.15236658,  1.        ,  0.19544229,\n",
        "         0.33316811,  0.65366562, -0.49312502,  0.26451378,  0.34108461],\n",
        "       [-0.53454226,  0.24128308,  0.9425087 ,  0.19544229,  1.        ,\n",
        "         0.5068409 ,  0.0609228 , -0.55043259, -0.46468982, -0.62916445],\n",
        "       [ 0.18423134,  0.45478407,  0.45936686,  0.33316811,  0.5068409 ,\n",
        "         1.        ,  0.74044612, -0.91500322,  0.03632058,  0.25233472],\n",
        "       [ 0.37536349, -0.08121793,  0.03744778,  0.65366562,  0.0609228 ,\n",
        "         0.74044612,  1.        , -0.8189948 ,  0.29598725,  0.70296641],\n",
        "       [-0.11811855, -0.10073335, -0.5718009 , -0.49312502, -0.55043259,\n",
        "        -0.91500322, -0.8189948 ,  1.        ,  0.16917049, -0.2105069 ],\n",
        "       [ 0.32571932,  0.22026407, -0.6936209 ,  0.26451378, -0.46468982,\n",
        "         0.03632058,  0.29598725,  0.16917049,  1.        ,  0.6924594 ],\n",
        "       [ 0.61749461, -0.11367471, -0.6772166 ,  0.34108461, -0.62916445,\n",
        "         0.25233472,  0.70296641, -0.2105069 ,  0.6924594 ,  1.        ]])"
       ]
      }
     ],
     "prompt_number": 119
    },
    {
     "cell_type": "code",
     "collapsed": false,
     "input": [
      "mr[np.triu_indices(10,1)]"
     ],
     "language": "python",
     "metadata": {},
     "outputs": [
      {
       "metadata": {},
       "output_type": "pyout",
       "prompt_number": 127,
       "text": [
        "array([ 0.17970292, -0.4194317 ,  0.17496253, -0.53454226,  0.18423134,\n",
        "        0.37536349, -0.11811855,  0.32571932,  0.61749461,  0.1463778 ,\n",
        "       -0.27376399,  0.24128308,  0.45478407, -0.08121793, -0.10073335,\n",
        "        0.22026407, -0.11367471,  0.15236658,  0.9425087 ,  0.45936686,\n",
        "        0.03744778, -0.5718009 , -0.6936209 , -0.6772166 ,  0.19544229,\n",
        "        0.33316811,  0.65366562, -0.49312502,  0.26451378,  0.34108461,\n",
        "        0.5068409 ,  0.0609228 , -0.55043259, -0.46468982, -0.62916445,\n",
        "        0.74044612, -0.91500322,  0.03632058,  0.25233472, -0.8189948 ,\n",
        "        0.29598725,  0.70296641,  0.16917049, -0.2105069 ,  0.6924594 ])"
       ]
      }
     ],
     "prompt_number": 127
    },
    {
     "cell_type": "code",
     "collapsed": false,
     "input": [
      "mr[x,y]"
     ],
     "language": "python",
     "metadata": {},
     "outputs": [
      {
       "metadata": {},
       "output_type": "pyout",
       "prompt_number": 128,
       "text": [
        "array([ 0.17970292, -0.4194317 ,  0.17496253, -0.53454226,  0.18423134,\n",
        "        0.37536349, -0.11811855,  0.32571932,  0.61749461,  0.1463778 ,\n",
        "       -0.27376399,  0.24128308,  0.45478407, -0.08121793, -0.10073335,\n",
        "        0.22026407, -0.11367471,  0.15236658,  0.9425087 ,  0.45936686,\n",
        "        0.03744778, -0.5718009 , -0.6936209 , -0.6772166 ,  0.19544229,\n",
        "        0.33316811,  0.65366562, -0.49312502,  0.26451378,  0.34108461,\n",
        "        0.5068409 ,  0.0609228 , -0.55043259, -0.46468982, -0.62916445,\n",
        "        0.74044612, -0.91500322,  0.03632058,  0.25233472, -0.8189948 ,\n",
        "        0.29598725,  0.70296641,  0.16917049, -0.2105069 ,  0.6924594 ])"
       ]
      }
     ],
     "prompt_number": 128
    },
    {
     "cell_type": "code",
     "collapsed": false,
     "input": [
      "%load ../../bayesian-cov-estimation/utils/matrix_functions.py"
     ],
     "language": "python",
     "metadata": {},
     "outputs": [],
     "prompt_number": 129
    },
    {
     "cell_type": "code",
     "collapsed": false,
     "input": [
      "import numpy as np\n",
      "import pandas as pd\n",
      "\n",
      "\n",
      "def CalcR2(Matrix):\n",
      "    tr = Matrix.shape[1]\n",
      "    x, y = np.asarray(np.invert(np.tri(tr, tr, dtype=bool)),\n",
      "                      dtype=float).nonzero()\n",
      "    R2Tot = np.mean(Matrix[x, y] * Matrix[x, y])\n",
      "    return R2Tot\n",
      "\n",
      "\n",
      "def eigen_var_calc(Matrix):\n",
      "    eVal, eVec = np.linalg.eigh(Matrix)\n",
      "    eigenMax = np.zeros(40, float)\n",
      "    eigenMax[0] = sum(eVal)\n",
      "    R2Tot = np.var(eVal) / np.var(eigenMax)\n",
      "    return R2Tot\n",
      "\n",
      "\n",
      "def icv_calc(Matrix):\n",
      "    eVal, eVec = np.linalg.eigh(Matrix)\n",
      "    icv = np.sqrt(np.var(eVal)) / np.mean(eVal)\n",
      "    return icv\n",
      "\n",
      "\n",
      "def cos_angle(vector1, vector2):\n",
      "    angle = np.dot(vector1, vector2) / (np.linalg.norm(vector1) *\n",
      "                                        np.linalg.norm(vector2))\n",
      "    return angle\n",
      "\n",
      "\n",
      "def random_skewers(matrix1, matrix2, num_vectors=1000):\n",
      "    traits = matrix1.shape[0]\n",
      "    rand_vec = np.random.multivariate_normal(np.zeros(traits),\n",
      "                                             np.identity(traits, float),\n",
      "                                             num_vectors).T\n",
      "    delta_z1 = np.dot(matrix1, rand_vec)\n",
      "    delta_z2 = np.dot(matrix2, rand_vec)\n",
      "\n",
      "    ndelta_z1 = delta_z1/np.sqrt((delta_z1*delta_z1).sum(0))\n",
      "    ndelta_z2 = delta_z2/np.sqrt((delta_z2*delta_z2).sum(0))\n",
      "\n",
      "    return np.mean(np.diag(np.dot(ndelta_z1.T, ndelta_z2)))\n",
      "\n",
      "\n",
      "def read_matrices(matrices, labels, num_traits):\n",
      "    raw_matrices = pd.read_csv(matrices)\n",
      "    with open(labels) as f:\n",
      "        monkey_labels = f.read().splitlines()\n",
      "\n",
      "    def make_symetric(matrix):\n",
      "        matrix = np.tril(matrix) + np.tril(matrix, k=-1).transpose()\n",
      "        return matrix\n",
      "\n",
      "    node_matrices = {monkey_labels[0]: np.array(raw_matrices.ix[0:num_traits-1, ])}\n",
      "    for i in range(1, len(monkey_labels)):\n",
      "        new_matrix = np.array(raw_matrices.ix[i*num_traits:(((i+1)*num_traits)-1), :])\n",
      "        node_matrices[monkey_labels[i]] = make_symetric(new_matrix)\n",
      "\n",
      "    return node_matrices\n",
      "\n",
      "\n",
      "def matrix_correlation(matrix1, matrix2):\n",
      "    tr = matrix1.shape[0]\n",
      "    correlation = np.corrcoef(matrix1[np.triu_indices(tr,1)], matrix2[np.triu_indices(tr,1)])[1, 0]\n",
      "    return correlation\n"
     ],
     "language": "python",
     "metadata": {},
     "outputs": [
      {
       "output_type": "stream",
       "stream": "stderr",
       "text": [
        "/home/walrus/.virtualenvs/py/local/lib/python2.7/site-packages/pytz/__init__.py:35: UserWarning: Module multiprocessing was already imported from /usr/lib/python2.7/multiprocessing/__init__.pyc, but /home/walrus/.virtualenvs/py/lib/python2.7/site-packages is being added to sys.path\n",
        "  from pkg_resources import resource_stream\n"
       ]
      }
     ],
     "prompt_number": 130
    },
    {
     "cell_type": "code",
     "collapsed": false,
     "input": [
      "matrix_correlation(mr,mr)"
     ],
     "language": "python",
     "metadata": {},
     "outputs": [
      {
       "metadata": {},
       "output_type": "pyout",
       "prompt_number": 132,
       "text": [
        "1.0"
       ]
      }
     ],
     "prompt_number": 132
    },
    {
     "cell_type": "code",
     "collapsed": false,
     "input": [
      "np.corrcoef(mr[0],mr[3])"
     ],
     "language": "python",
     "metadata": {},
     "outputs": [
      {
       "metadata": {},
       "output_type": "pyout",
       "prompt_number": 137,
       "text": [
        "array([[ 1.        ,  0.21715581],\n",
        "       [ 0.21715581,  1.        ]])"
       ]
      }
     ],
     "prompt_number": 137
    },
    {
     "cell_type": "code",
     "collapsed": false,
     "input": [],
     "language": "python",
     "metadata": {},
     "outputs": []
    }
   ],
   "metadata": {}
  }
 ]
}