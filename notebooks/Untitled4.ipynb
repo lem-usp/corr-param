{
 "metadata": {
  "name": ""
 },
 "nbformat": 3,
 "nbformat_minor": 0,
 "worksheets": [
  {
   "cells": [
    {
     "cell_type": "code",
     "collapsed": false,
     "input": [
      "import randomCorr as rc\n",
      "\n",
      "m1 = np.loadtxt(open(\"../matrices/ex-1a.csv\",\"rb\"),delimiter=\",\")\n",
      "m2 = np.loadtxt(open(\"../matrices/ex-1b.csv\",\"rb\"),delimiter=\",\")\n",
      "m3 = np.loadtxt(open(\"../matrices/ex-2a.csv\",\"rb\"),delimiter=\",\")\n",
      "m4 = np.loadtxt(open(\"../matrices/ex-2b.csv\",\"rb\"),delimiter=\",\")\n",
      "m5 = np.loadtxt(open(\"../matrices/ex-3a.csv\",\"rb\"),delimiter=\",\")\n",
      "m6 = np.loadtxt(open(\"../matrices/ex-3b.csv\",\"rb\"),delimiter=\",\")\n",
      "\n",
      "ms =[m1, m2, m3, m4, m5, m6]\n",
      "\n",
      "bp = []\n",
      "\n",
      "for i in xrange(len(ms)):\n",
      "    b_n = rc.triang_decomp(ms[i])\n",
      "    p_n = rc.calc_params(b_n)\n",
      "    bp.append((b_n, p_n))"
     ],
     "language": "python",
     "metadata": {},
     "outputs": [],
     "prompt_number": 22
    },
    {
     "cell_type": "code",
     "collapsed": false,
     "input": [
      "import pandas as pd"
     ],
     "language": "python",
     "metadata": {},
     "outputs": [],
     "prompt_number": 23
    },
    {
     "cell_type": "code",
     "collapsed": false,
     "input": [
      "for ps in (0,1), (2,3), (4,5):\n",
      "    r2, flex,isoc, path_ms = rc.calc_path(ms, bp, ps[0], ps[1], return_matrices=True)    \n",
      "    for i in range(0,101):\n",
      "        df_i = pd.DataFrame(path_ms[i])\n",
      "        df_i.to_excel('matrix-{}x{}-{}.xls'.format(ps[0],ps[1], i))"
     ],
     "language": "python",
     "metadata": {},
     "outputs": [],
     "prompt_number": 24
    },
    {
     "cell_type": "code",
     "collapsed": false,
     "input": [],
     "language": "python",
     "metadata": {},
     "outputs": []
    }
   ],
   "metadata": {}
  }
 ]
}