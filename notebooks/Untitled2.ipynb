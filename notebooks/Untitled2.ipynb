{
 "metadata": {
  "name": ""
 },
 "nbformat": 3,
 "nbformat_minor": 0,
 "worksheets": [
  {
   "cells": [
    {
     "cell_type": "heading",
     "level": 1,
     "metadata": {},
     "source": [
      "An\u00e1lise de RS para matrizes aleat\u00f3rias"
     ]
    },
    {
     "cell_type": "code",
     "collapsed": false,
     "input": [
      "import randomCorr as rc\n",
      "%load  ../../bayesian-cov-estimation/utils/matrix_functions.py"
     ],
     "language": "python",
     "metadata": {},
     "outputs": []
    },
    {
     "cell_type": "code",
     "collapsed": false,
     "input": [
      "import numpy as np\n",
      "import pandas as pd\n",
      "\n",
      "def cov2cor(matrix):\n",
      "    y = np.sqrt(np.diagonal(matrix))\n",
      "    y = (y[:, np.newaxis] * y)\n",
      "    corrmatrix = matrix / y\n",
      "    return corrmatrix\n",
      "\n",
      "def calc_r2(matrix, isVar=False):\n",
      "    tr = matrix.shape[1]\n",
      "    cmatrix = cov2cor(matrix) if isVar else matrix\n",
      "    r2_total = np.mean(cmatrix[np.triu_indices(tr,1)] * cmatrix[np.triu_indices(tr,1)])\n",
      "    return r2_total\n",
      "\n",
      "def icv_calc(matrix):\n",
      "    eVal, eVec = np.linalg.eigh(matrix)\n",
      "    icv = np.sqrt(np.var(eVal)) / np.mean(eVal)\n",
      "    return icv\n",
      "\n",
      "def cos_angle(vector1, vector2):\n",
      "    angle = np.dot(vector1, vector2) / (np.linalg.norm(vector1) *\n",
      "                                        np.linalg.norm(vector2))\n",
      "    return angle\n",
      "\n",
      "def random_skewers(matrix1, matrix2, num_vectors=1000):\n",
      "    traits = matrix1.shape[0]\n",
      "    rand_vec = np.random.multivariate_normal(np.zeros(traits),\n",
      "                                             np.identity(traits, float),\n",
      "                                             num_vectors).T\n",
      "    delta_z1 = np.dot(matrix1, rand_vec)\n",
      "    delta_z2 = np.dot(matrix2, rand_vec)\n",
      "\n",
      "    ndelta_z1 = delta_z1/np.sqrt((delta_z1*delta_z1).sum(0))\n",
      "    ndelta_z2 = delta_z2/np.sqrt((delta_z2*delta_z2).sum(0))\n",
      "\n",
      "    return np.mean(np.diag(np.dot(ndelta_z1.T, ndelta_z2)))\n",
      "\n",
      "def read_matrices(matrices, labels, num_traits):\n",
      "    raw_matrices = pd.read_csv(matrices)\n",
      "    with open(labels) as f:\n",
      "        monkey_labels = f.read().splitlines()\n",
      "\n",
      "    def make_symetric(matrix):\n",
      "        matrix = np.tril(matrix) + np.tril(matrix, k=-1).transpose()\n",
      "        return matrix\n",
      "\n",
      "    node_matrices = {monkey_labels[0]: np.array(raw_matrices.ix[0:num_traits-1, ])}\n",
      "    for i in range(1, len(monkey_labels)):\n",
      "        new_matrix = np.array(raw_matrices.ix[i*num_traits:(((i+1)*num_traits)-1), :])\n",
      "        node_matrices[monkey_labels[i]] = make_symetric(new_matrix)\n",
      "\n",
      "    return node_matrices\n",
      "\n",
      "def matrix_correlation(matrix1, matrix2):\n",
      "    tr = matrix1.shape[0]\n",
      "    correlation = np.corrcoef(matrix1[np.triu_indices(tr,1)], matrix2[np.triu_indices(tr,1)])[1, 0]\n",
      "    return correlation\n"
     ],
     "language": "python",
     "metadata": {},
     "outputs": []
    },
    {
     "cell_type": "code",
     "collapsed": false,
     "input": [
      "NUM_MATRICES = 2000\n",
      "\n",
      "ms = []\n",
      "\n",
      "for i in xrange(NUM_MATRICES):\n",
      "    m = rc.rand_corr(35, 10**-3)\n",
      "    ms.append(m)"
     ],
     "language": "python",
     "metadata": {},
     "outputs": [
      {
       "ename": "KeyboardInterrupt",
       "evalue": "",
       "output_type": "pyerr",
       "traceback": [
        "\u001b[1;31m---------------------------------------------------------------------------\u001b[0m\n\u001b[1;31mKeyboardInterrupt\u001b[0m                         Traceback (most recent call last)",
        "\u001b[1;32m<ipython-input-6-6ddbaddb9e5a>\u001b[0m in \u001b[0;36m<module>\u001b[1;34m()\u001b[0m\n\u001b[0;32m      4\u001b[0m \u001b[1;33m\u001b[0m\u001b[0m\n\u001b[0;32m      5\u001b[0m \u001b[1;32mfor\u001b[0m \u001b[0mi\u001b[0m \u001b[1;32min\u001b[0m \u001b[0mxrange\u001b[0m\u001b[1;33m(\u001b[0m\u001b[0mNUM_MATRICES\u001b[0m\u001b[1;33m)\u001b[0m\u001b[1;33m:\u001b[0m\u001b[1;33m\u001b[0m\u001b[0m\n\u001b[1;32m----> 6\u001b[1;33m     \u001b[0mm\u001b[0m \u001b[1;33m=\u001b[0m \u001b[0mrc\u001b[0m\u001b[1;33m.\u001b[0m\u001b[0mrand_corr\u001b[0m\u001b[1;33m(\u001b[0m\u001b[1;36m35\u001b[0m\u001b[1;33m,\u001b[0m \u001b[1;36m10\u001b[0m\u001b[1;33m**\u001b[0m\u001b[1;33m-\u001b[0m\u001b[1;36m3\u001b[0m\u001b[1;33m)\u001b[0m\u001b[1;33m\u001b[0m\u001b[0m\n\u001b[0m\u001b[0;32m      7\u001b[0m     \u001b[0mms\u001b[0m\u001b[1;33m.\u001b[0m\u001b[0mappend\u001b[0m\u001b[1;33m(\u001b[0m\u001b[0mm\u001b[0m\u001b[1;33m)\u001b[0m\u001b[1;33m\u001b[0m\u001b[0m\n",
        "\u001b[1;32m/home/walrus/corr-param/randomCorr.pyc\u001b[0m in \u001b[0;36mrand_corr\u001b[1;34m(n, ke)\u001b[0m\n\u001b[0;32m     14\u001b[0m     \u001b[1;32mfor\u001b[0m \u001b[0mi\u001b[0m \u001b[1;32min\u001b[0m \u001b[0mxrange\u001b[0m\u001b[1;33m(\u001b[0m\u001b[1;36m2\u001b[0m\u001b[1;33m,\u001b[0m \u001b[0mn\u001b[0m\u001b[1;33m)\u001b[0m\u001b[1;33m:\u001b[0m\u001b[1;33m\u001b[0m\u001b[0m\n\u001b[0;32m     15\u001b[0m         \u001b[1;32mfor\u001b[0m \u001b[0mj\u001b[0m \u001b[1;32min\u001b[0m \u001b[0mxrange\u001b[0m\u001b[1;33m(\u001b[0m\u001b[1;36m1\u001b[0m\u001b[1;33m,\u001b[0m \u001b[0mi\u001b[0m\u001b[1;33m)\u001b[0m\u001b[1;33m:\u001b[0m\u001b[1;33m\u001b[0m\u001b[0m\n\u001b[1;32m---> 16\u001b[1;33m             \u001b[0mb1\u001b[0m \u001b[1;33m=\u001b[0m \u001b[0mnp\u001b[0m\u001b[1;33m.\u001b[0m\u001b[0mdot\u001b[0m\u001b[1;33m(\u001b[0m\u001b[0mb\u001b[0m\u001b[1;33m[\u001b[0m\u001b[0mj\u001b[0m\u001b[1;33m,\u001b[0m \u001b[1;36m0\u001b[0m\u001b[1;33m:\u001b[0m\u001b[0mj\u001b[0m\u001b[1;33m]\u001b[0m\u001b[1;33m,\u001b[0m \u001b[0mb\u001b[0m\u001b[1;33m[\u001b[0m\u001b[0mi\u001b[0m\u001b[1;33m,\u001b[0m \u001b[1;36m0\u001b[0m\u001b[1;33m:\u001b[0m\u001b[0mj\u001b[0m\u001b[1;33m]\u001b[0m\u001b[1;33m.\u001b[0m\u001b[0mT\u001b[0m\u001b[1;33m)\u001b[0m\u001b[1;33m\u001b[0m\u001b[0m\n\u001b[0m\u001b[0;32m     17\u001b[0m             \u001b[0mb2\u001b[0m \u001b[1;33m=\u001b[0m \u001b[0mnp\u001b[0m\u001b[1;33m.\u001b[0m\u001b[0mdot\u001b[0m\u001b[1;33m(\u001b[0m\u001b[0mb\u001b[0m\u001b[1;33m[\u001b[0m\u001b[0mj\u001b[0m\u001b[1;33m,\u001b[0m \u001b[0mj\u001b[0m\u001b[1;33m]\u001b[0m\u001b[1;33m,\u001b[0m \u001b[0mb\u001b[0m\u001b[1;33m[\u001b[0m\u001b[0mi\u001b[0m\u001b[1;33m,\u001b[0m \u001b[0mj\u001b[0m\u001b[1;33m]\u001b[0m\u001b[1;33m)\u001b[0m\u001b[1;33m\u001b[0m\u001b[0m\n\u001b[0;32m     18\u001b[0m             \u001b[0mz\u001b[0m \u001b[1;33m=\u001b[0m \u001b[0mb1\u001b[0m \u001b[1;33m+\u001b[0m \u001b[0mb2\u001b[0m\u001b[1;33m\u001b[0m\u001b[0m\n",
        "\u001b[1;31mKeyboardInterrupt\u001b[0m: "
       ]
      }
     ],
     "prompt_number": 6
    },
    {
     "cell_type": "code",
     "collapsed": false,
     "input": [
      "rs0 = []\n",
      "\n",
      "for i in xrange(NUM_MATRICES):\n",
      "    rs0.append(random_skewers(ms[0], ms[i]))"
     ],
     "language": "python",
     "metadata": {},
     "outputs": []
    },
    {
     "cell_type": "code",
     "collapsed": false,
     "input": [
      "mc0 = []\n",
      "\n",
      "for i in xrange(NUM_MATRICES):\n",
      "    mc0.append(matrix_correlation(ms[0], ms[i]))"
     ],
     "language": "python",
     "metadata": {},
     "outputs": []
    },
    {
     "cell_type": "code",
     "collapsed": false,
     "input": [
      "hist(mc0[1:])"
     ],
     "language": "python",
     "metadata": {},
     "outputs": [
      {
       "metadata": {},
       "output_type": "pyout",
       "prompt_number": 28,
       "text": [
        "(array([ 84, 222, 310, 185, 117,  52,  19,   8,   1,   1]),\n",
        " array([-0.08093416, -0.05337393, -0.0258137 ,  0.00174653,  0.02930676,\n",
        "        0.056867  ,  0.08442723,  0.11198746,  0.13954769,  0.16710792,\n",
        "        0.19466816]),\n",
        " <a list of 10 Patch objects>)"
       ]
      },
      {
       "metadata": {},
       "output_type": "display_data",
       "png": "[encoded data removed]",
       "text": [
        "<matplotlib.figure.Figure at 0x4add150>"
       ]
      }
     ],
     "prompt_number": 28
    },
    {
     "cell_type": "code",
     "collapsed": false,
     "input": [
      "hist(rs0[1:])"
     ],
     "language": "python",
     "metadata": {},
     "outputs": [
      {
       "metadata": {},
       "output_type": "pyout",
       "prompt_number": 29,
       "text": [
        "(array([ 28, 113, 222, 251, 192, 106,  59,  18,   8,   2]),\n",
        " array([ 0.05346387,  0.07255749,  0.09165112,  0.11074474,  0.12983837,\n",
        "        0.148932  ,  0.16802562,  0.18711925,  0.20621287,  0.2253065 ,\n",
        "        0.24440012]),\n",
        " <a list of 10 Patch objects>)"
       ]
      },
      {
       "metadata": {},
       "output_type": "display_data",
       "png": "[encoded data removed]",
       "text": [
        "<matplotlib.figure.Figure at 0x6137fd0>"
       ]
      }
     ],
     "prompt_number": 29
    },
    {
     "cell_type": "code",
     "collapsed": false,
     "input": [
      "scatter(mc0[1:], rs0[1:])"
     ],
     "language": "python",
     "metadata": {},
     "outputs": [
      {
       "metadata": {},
       "output_type": "pyout",
       "prompt_number": 24,
       "text": [
        "<matplotlib.collections.PathCollection at 0x6127290>"
       ]
      },
      {
       "metadata": {},
       "output_type": "display_data",
       "png": "[encoded data removed]",
       "text": [
        "<matplotlib.figure.Figure at 0x4fc23d0>"
       ]
      }
     ],
     "prompt_number": 24
    },
    {
     "cell_type": "code",
     "collapsed": false,
     "input": [
      "average(mc0)"
     ],
     "language": "python",
     "metadata": {},
     "outputs": [
      {
       "metadata": {},
       "output_type": "pyout",
       "prompt_number": 25,
       "text": [
        "-0.0019528180855193302"
       ]
      }
     ],
     "prompt_number": 25
    },
    {
     "cell_type": "code",
     "collapsed": false,
     "input": [
      "average(rs0)"
     ],
     "language": "python",
     "metadata": {},
     "outputs": [
      {
       "metadata": {},
       "output_type": "pyout",
       "prompt_number": 26,
       "text": [
        "0.12447475666827049"
       ]
      }
     ],
     "prompt_number": 26
    },
    {
     "cell_type": "code",
     "collapsed": false,
     "input": [],
     "language": "python",
     "metadata": {},
     "outputs": []
    }
   ],
   "metadata": {}
  }
 ]
}