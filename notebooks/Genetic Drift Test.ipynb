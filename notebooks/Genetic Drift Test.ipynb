{
 "metadata": {
  "name": ""
 },
 "nbformat": 3,
 "nbformat_minor": 0,
 "worksheets": [
  {
   "cells": [
    {
     "cell_type": "code",
     "collapsed": false,
     "input": [
      "%pylab \n",
      "\n",
      "import numpy as np\n",
      "import pandas as ps\n",
      "\n",
      "def rand_ortho_matrix(eigen_values):\n",
      "    size = len(eigen_values)\n",
      "    A = np.mat(np.random.random((size,size)))\n",
      "    Q, R = np.linalg.qr(A)\n",
      "    \n",
      "    return Q * np.diag(eigen_values) * Q.T\n",
      "    "
     ],
     "language": "python",
     "metadata": {},
     "outputs": [
      {
       "output_type": "stream",
       "stream": "stdout",
       "text": [
        "Using matplotlib backend: module://IPython.kernel.zmq.pylab.backend_inline\n",
        "Populating the interactive namespace from numpy and matplotlib\n"
       ]
      }
     ],
     "prompt_number": 12
    },
    {
     "cell_type": "code",
     "collapsed": false,
     "input": [
      "n_traits = 10\n",
      "n_pop = 100\n",
      "rand_eigen = np.array(10*np.random.random(n_traits))\n",
      "p = rand_ortho_matrix(rand_eigen)\n",
      "t_Ne = 100\n"
     ],
     "language": "python",
     "metadata": {},
     "outputs": [
      {
       "metadata": {},
       "output_type": "pyout",
       "prompt_number": 16,
       "text": [
        "array([ 9.49155397,  7.65382665,  4.44865526,  2.84217883,  2.27903245,\n",
        "        2.04828291,  0.59145387,  1.29860952,  0.92532338,  1.0330789 ])"
       ]
      }
     ],
     "prompt_number": 16
    },
    {
     "cell_type": "code",
     "collapsed": false,
     "input": [
      "rand_pop = np.random.multivariate_normal(np.zeros(n_traits), t_Ne*p, n_pop)"
     ],
     "language": "python",
     "metadata": {},
     "outputs": [],
     "prompt_number": 8
    },
    {
     "cell_type": "code",
     "collapsed": false,
     "input": [
      "pcolor(p)"
     ],
     "language": "python",
     "metadata": {},
     "outputs": [
      {
       "metadata": {},
       "output_type": "pyout",
       "prompt_number": 14,
       "text": [
        "<matplotlib.collections.PolyCollection at 0x46f8e10>"
       ]
      },
      {
       "metadata": {},
       "output_type": "display_data",
       "text": [
        "<matplotlib.figure.Figure at 0x46bc5d0>"
       ]
      }
     ],
     "prompt_number": 14
    },
    {
     "cell_type": "code",
     "collapsed": false,
     "input": [
      "rand_pop.shape"
     ],
     "language": "python",
     "metadata": {},
     "outputs": [
      {
       "metadata": {},
       "output_type": "pyout",
       "prompt_number": 24,
       "text": [
        "(100, 10)"
       ]
      }
     ],
     "prompt_number": 24
    },
    {
     "cell_type": "code",
     "collapsed": false,
     "input": [
      "p"
     ],
     "language": "python",
     "metadata": {},
     "outputs": [
      {
       "metadata": {},
       "output_type": "pyout",
       "prompt_number": 17,
       "text": [
        "matrix([[ 3.48843921, -0.13983135,  1.48669983,  2.21182275, -1.0337001 ,\n",
        "          0.04566922, -0.30693021, -0.32655568, -1.05678267, -1.53955321],\n",
        "        [-0.13983135,  1.60208873, -0.61490352, -0.39867582,  0.38340526,\n",
        "          0.73729306,  0.32436573,  0.79628962, -0.06652484,  0.43884909],\n",
        "        [ 1.48669983, -0.61490352,  4.82970824,  1.04898002, -0.27403019,\n",
        "         -1.53118007,  0.11958623, -1.59180987,  0.11787473, -0.8705591 ],\n",
        "        [ 2.21182275, -0.39867582,  1.04898002,  2.98585939, -0.61868691,\n",
        "          0.40602866, -0.6327927 ,  0.17083723, -1.00322829, -1.76555318],\n",
        "        [-1.0337001 ,  0.38340526, -0.27403019, -0.61868691,  3.08542834,\n",
        "         -0.24960562, -0.59772194, -0.23541953, -0.36216281,  2.10029715],\n",
        "        [ 0.04566922,  0.73729306, -1.53118007,  0.40602866, -0.24960562,\n",
        "          3.85737265,  0.24325707,  1.86484581,  0.064642  , -0.95681853],\n",
        "        [-0.30693021,  0.32436573,  0.11958623, -0.6327927 , -0.59772194,\n",
        "          0.24325707,  2.88068244,  0.46983023,  0.59484898, -0.19102176],\n",
        "        [-0.32655568,  0.79628962, -1.59180987,  0.17083723, -0.23541953,\n",
        "          1.86484581,  0.46983023,  2.75579427, -0.48243441, -0.86979152],\n",
        "        [-1.05678267, -0.06652484,  0.11787473, -1.00322829, -0.36216281,\n",
        "          0.064642  ,  0.59484898, -0.48243441,  2.47487302,  0.60676829],\n",
        "        [-1.53955321,  0.43884909, -0.8705591 , -1.76555318,  2.10029715,\n",
        "         -0.95681853, -0.19102176, -0.86979152,  0.60676829,  4.65174945]])"
       ]
      }
     ],
     "prompt_number": 17
    },
    {
     "cell_type": "code",
     "collapsed": false,
     "input": [],
     "language": "python",
     "metadata": {},
     "outputs": []
    }
   ],
   "metadata": {}
  }
 ]
}